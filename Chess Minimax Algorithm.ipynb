{
 "cells": [
  {
   "cell_type": "code",
   "execution_count": null,
   "metadata": {
    "pycharm": {
     "is_executing": false
    }
   },
   "outputs": [],
   "source": [
    "import chess\n",
    "from chess import svg\n",
    "from IPython.display import display, HTML, SVG, clear_output\n",
    "import sys\n",
    "import time\n",
    "import random"
   ]
  },
  {
   "cell_type": "code",
   "execution_count": null,
   "metadata": {
    "pycharm": {
     "is_executing": false
    }
   },
   "outputs": [],
   "source": [
    "### Board Evaluation Method ###\n",
    "\n",
    "def material_evaluation(board):\n",
    "\n",
    "    w_pawns = board.fen().count(\"P\")\n",
    "    b_pawns = board.fen().count(\"p\")\n",
    "\n",
    "    w_rooks = board.fen().count(\"R\")\n",
    "    b_rooks = board.fen().count(\"r\")\n",
    "\n",
    "    w_queens = board.fen().count(\"Q\")\n",
    "    b_queens = board.fen().count(\"q\")\n",
    "\n",
    "    w_bishops = board.fen().count(\"B\")\n",
    "    b_bishops = board.fen().count(\"b\")\n",
    "\n",
    "    w_knights = board.fen().count(\"N\")\n",
    "    b_knights = board.fen().count(\"n\")\n",
    "\n",
    "    w_kings = board.fen().count(\"K\")\n",
    "    b_kings = board.fen().count(\"k\")\n",
    "\n",
    "    material_score = 200 * (w_kings-b_kings) + 9 * (w_queens-b_queens) + 5 * (w_rooks-b_rooks) + 3 * (w_bishops+w_knights-b_bishops-b_knights) + 1 * (w_pawns - b_pawns)\n",
    "\n",
    "    return material_score"
   ]
  },
  {
   "cell_type": "code",
   "execution_count": null,
   "metadata": {
    "pycharm": {
     "is_executing": false
    }
   },
   "outputs": [],
   "source": [
    "def mini(board, depth):\n",
    "    if depth==0:\n",
    "        return material_evaluation(board)\n",
    "\n",
    "    min_score = sys.maxsize\n",
    "    min_move = any(board.legal_moves)\n",
    "\n",
    "    #print(board.legal_moves.count(), \" LEGAL MOVES.\")\n",
    "    for move in board.legal_moves:\n",
    "        board.push(move) #try a move\n",
    "        score = maxi(board, depth-1) #recurse\n",
    "        if score < min_score:\n",
    "            min_score = score\n",
    "            min_move = move\n",
    "        board.pop() #undo the move\n",
    "    if depth==PLY:\n",
    "        return min_score, min_move\n",
    "    return min_score\n",
    "\n",
    "\n",
    "### Maxi method ###\n",
    "# Maxi() and mini() recursively call each other\n",
    "def maxi(board, depth):\n",
    "    if depth==0:\n",
    "        return material_evaluation(board)\n",
    "\n",
    "    max_score = -sys.maxsize\n",
    "    max_move = any(board.legal_moves)\n",
    "\n",
    "\n",
    "    for move in board.legal_moves:\n",
    "        board.push(move) #try a move\n",
    "        score = mini(board, depth-1) #recurse\n",
    "        if score > max_score:\n",
    "            max_score = score\n",
    "            max_move = move\n",
    "        board.pop() #undo the move\n",
    "\n",
    "    if depth==PLY:\n",
    "        return max_score, max_move\n",
    "    return max_score\n",
    "\n",
    "def minimax(board):\n",
    "    return maxi(board, PLY)"
   ]
  },
  {
   "cell_type": "code",
   "execution_count": null,
   "metadata": {
    "pycharm": {
     "is_executing": false
    }
   },
   "outputs": [],
   "source": [
    "### Initialize virtual chess board and start game ###\n",
    "board = chess.Board()\n",
    "\n",
    "### CONSTANTS ###\n",
    "PLY = 3 # depth of each minimax search\n",
    "\n",
    "\n",
    "# Player vs. Random Algorithm\n",
    "'''\n",
    "while not board.is_game_over():\n",
    "    board.push(random.choice([move for move in board.legal_moves]))\n",
    "    print(board)\n",
    "    player_move = input('What move do you want to play? ')\n",
    "    board.push_san(player_move)\n",
    "'''\n",
    "### COMPUTER VS. RANDOM ALGORITHM ###\n",
    "\n",
    "# Start game #\n",
    "print(\"STARTING GAME\")\n",
    "display(HTML(svg.board(board=board, size=400)))\n",
    "\n"
   ]
  },
  {
   "cell_type": "code",
   "execution_count": null,
   "metadata": {
    "pycharm": {
     "is_executing": true
    }
   },
   "outputs": [],
   "source": [
    "move_count = 0\n",
    "while not board.is_game_over():\n",
    "    move_count+=1\n",
    "    print(\"MOVE \", move_count, \"\\n\")\n",
    "\n",
    "    max_computer_score, computer_move = minimax(board)\n",
    "    board.push(computer_move)\n",
    "    \n",
    "    \n",
    "    random_move = random.choice([move for move in board.legal_moves])\n",
    "    board.push(random_move)\n",
    "    \n",
    "    #clear_output(wait=True)\n",
    "    display(HTML(svg.board(board=board, size=400)))\n",
    "    time.sleep(1)\n",
    "    #SVG(svg.board(board=board))\n",
    "\n",
    "\n",
    "### RANDOM VS. RANDOM ALGORITHM ###\n",
    "\"\"\"\n",
    "while not board.is_game_over():\n",
    "    board.push(random.choice([move for move in board.legal_moves]))\n",
    "    print(board)\n",
    "\"\"\"\n",
    "\n",
    "print(board.result())"
   ]
  },
  {
   "cell_type": "code",
   "execution_count": null,
   "metadata": {
    "pycharm": {
     "is_executing": true
    }
   },
   "outputs": [],
   "source": []
  },
  {
   "cell_type": "code",
   "execution_count": null,
   "metadata": {
    "pycharm": {
     "is_executing": true
    }
   },
   "outputs": [],
   "source": []
  },
  {
   "cell_type": "code",
   "execution_count": null,
   "metadata": {},
   "outputs": [],
   "source": []
  },
  {
   "cell_type": "code",
   "execution_count": null,
   "metadata": {},
   "outputs": [],
   "source": []
  }
 ],
 "metadata": {
  "kernelspec": {
   "display_name": "Python 3",
   "language": "python",
   "name": "python3"
  },
  "language_info": {
   "codemirror_mode": {
    "name": "ipython",
    "version": 3
   },
   "file_extension": ".py",
   "mimetype": "text/x-python",
   "name": "python",
   "nbconvert_exporter": "python",
   "pygments_lexer": "ipython3",
   "version": "3.7.4"
  },
  "pycharm": {
   "stem_cell": {
    "cell_type": "raw",
    "source": [],
    "metadata": {
     "collapsed": false
    }
   }
  }
 },
 "nbformat": 4,
 "nbformat_minor": 2
}